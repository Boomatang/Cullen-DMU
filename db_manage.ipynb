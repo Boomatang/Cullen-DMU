{
 "cells": [
  {
   "cell_type": "code",
   "execution_count": 21,
   "metadata": {
    "collapsed": true
   },
   "outputs": [],
   "source": [
    "from pony.orm import *\n",
    "\n",
    "db = Database()"
   ]
  },
  {
   "cell_type": "markdown",
   "metadata": {},
   "source": [
    "Import pony and set up the database"
   ]
  },
  {
   "cell_type": "code",
   "execution_count": 22,
   "metadata": {
    "collapsed": false
   },
   "outputs": [
    {
     "name": "stdout",
     "output_type": "stream",
     "text": [
      "class Person(Entity):\n",
      "    id = PrimaryKey(int, auto=True)\n",
      "    name = Required(str)\n",
      "    age = Required(int)\n",
      "    cars = Set(Car)\n"
     ]
    }
   ],
   "source": [
    "class Person(db.Entity):\n",
    "    name = Required(str)\n",
    "    age = Required(int)\n",
    "    cars = Set('Car')\n",
    "    \n",
    "    \n",
    "class Car(db.Entity):\n",
    "    make = Required(str)\n",
    "    model = Required(str)\n",
    "    owner = Required(Person)\n",
    "    \n",
    "# Simple check to show the table format\n",
    "show(Person)"
   ]
  },
  {
   "cell_type": "markdown",
   "metadata": {},
   "source": [
    "The next step is to create the actual database and its tables. Below it shows how this could be done in both memory or creating a file. If you are creating the database from a shell you need to give the fully path to the database. I am not sure if this is the same from a script"
   ]
  },
  {
   "cell_type": "code",
   "execution_count": 23,
   "metadata": {
    "collapsed": true
   },
   "outputs": [],
   "source": [
    "# db.bind('sqlite', ':memory:')\n",
    "# or use\n",
    "db.bind('sqlite', '/home/boomatang/Projects/Python/Cullen-DMU/db-test.sqlite', create_db=True)"
   ]
  },
  {
   "cell_type": "markdown",
   "metadata": {},
   "source": [
    "The next required step is to make a mpping of the database objects. This most be done after the tables are created."
   ]
  },
  {
   "cell_type": "code",
   "execution_count": 24,
   "metadata": {
    "collapsed": false
   },
   "outputs": [],
   "source": [
    "db.generate_mapping(create_tables=True)"
   ]
  },
  {
   "cell_type": "markdown",
   "metadata": {},
   "source": [
    "For the use case here we will turn on the debug mode so as to see the sql that is be transacted\n"
   ]
  },
  {
   "cell_type": "code",
   "execution_count": 25,
   "metadata": {
    "collapsed": true
   },
   "outputs": [],
   "source": [
    "sql_debug(True)\n"
   ]
  },
  {
   "cell_type": "markdown",
   "metadata": {},
   "source": [
    "Next we create some entity instances and commit them to the database"
   ]
  },
  {
   "cell_type": "code",
   "execution_count": 26,
   "metadata": {
    "collapsed": false
   },
   "outputs": [],
   "source": [
    "p1 = Person(name='John', age=20)\n",
    "p2 = Person(name='Mary', age=22)\n",
    "p3 = Person(name='Bob', age=30)\n",
    "c1 = Car(make='Toyota', model='Prius', owner=p2)\n",
    "c2 = Car(make='Ford', model='Explorer', owner=p3)\n",
    "commit()\n"
   ]
  },
  {
   "cell_type": "markdown",
   "metadata": {},
   "source": [
    "Whenworking outside of the interactive shell you will be required to have your code in side the db_session. This can be done by using **@db_session()** decorator"
   ]
  },
  {
   "cell_type": "code",
   "execution_count": 27,
   "metadata": {
    "collapsed": false
   },
   "outputs": [],
   "source": [
    "@db_session\n",
    "def print_person_name(person_id):\n",
    "    p = Person[person_id]\n",
    "    print(p.name)\n",
    "    # database session cache will be cleared automatically\n",
    "    # database connection will be returned to the pool\n",
    "\n",
    "@db_session\n",
    "def add_car(person_id, make, model):\n",
    "    Car(make=make, model=model, owner=Person[person_id])\n",
    "    # commit() will be done automatically\n",
    "    # database session cache will be cleared automatically\n",
    "    # database connection will be returned to the pool"
   ]
  },
  {
   "cell_type": "markdown",
   "metadata": {},
   "source": [
    "The db_session can also be done with using the **with** function as shown below\n"
   ]
  },
  {
   "cell_type": "code",
   "execution_count": 28,
   "metadata": {
    "collapsed": true
   },
   "outputs": [],
   "source": [
    "with db_session:\n",
    "    p = Person(name='Kate', age=33)\n",
    "    Car(make='Audi', model='R8', owner=p)\n",
    "    # commit() will be done automatically\n",
    "    # dataabase session cache will be cleared automatically\n",
    "    # database connection will be returned to the pool"
   ]
  },
  {
   "cell_type": "markdown",
   "metadata": {},
   "source": [
    "The select function uses a generator to pull data from the database. Below are a few examples of how to select data from the database\n"
   ]
  },
  {
   "cell_type": "code",
   "execution_count": 29,
   "metadata": {
    "collapsed": false
   },
   "outputs": [
    {
     "data": {
      "text/plain": [
       "<pony.orm.core.Query at 0x7fcbc031eeb8>"
      ]
     },
     "execution_count": 29,
     "metadata": {},
     "output_type": "execute_result"
    }
   ],
   "source": [
    "select(p for p in Person if p.age > 20)"
   ]
  },
  {
   "cell_type": "code",
   "execution_count": 30,
   "metadata": {
    "collapsed": false
   },
   "outputs": [
    {
     "data": {
      "text/plain": [
       "[Person[2], Person[3], Person[4]]"
      ]
     },
     "execution_count": 30,
     "metadata": {},
     "output_type": "execute_result"
    }
   ],
   "source": [
    "select(p for p in Person if p.age>20)[:]\n"
   ]
  },
  {
   "cell_type": "code",
   "execution_count": 32,
   "metadata": {
    "collapsed": false
   },
   "outputs": [
    {
     "data": {
      "text/plain": [
       "[Person[3], Person[1]]"
      ]
     },
     "execution_count": 32,
     "metadata": {},
     "output_type": "execute_result"
    }
   ],
   "source": [
    "select(p for p in Person).order_by(Person.name)[:2]\n"
   ]
  },
  {
   "cell_type": "code",
   "execution_count": 33,
   "metadata": {
    "collapsed": false
   },
   "outputs": [
    {
     "name": "stdout",
     "output_type": "stream",
     "text": [
      "id|name|age\n",
      "--+----+---\n",
      "3 |Bob |30 \n",
      "1 |John|20 \n"
     ]
    }
   ],
   "source": [
    "select(p for p in Person).order_by(Person.name)[:2].show()"
   ]
  }
 ],
 "metadata": {
  "kernelspec": {
   "display_name": "Python 3",
   "language": "python",
   "name": "python3"
  },
  "language_info": {
   "codemirror_mode": {
    "name": "ipython",
    "version": 3
   },
   "file_extension": ".py",
   "mimetype": "text/x-python",
   "name": "python",
   "nbconvert_exporter": "python",
   "pygments_lexer": "ipython3",
   "version": "3.5.2"
  }
 },
 "nbformat": 4,
 "nbformat_minor": 0
}
